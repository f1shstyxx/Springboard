{
 "cells": [
  {
   "cell_type": "code",
   "execution_count": null,
   "id": "472d9dc6-0894-4fc3-9aba-8d67dbf77c70",
   "metadata": {},
   "outputs": [],
   "source": []
  }
 ],
 "metadata": {
  "kernelspec": {
   "display_name": "",
   "name": ""
  },
  "language_info": {
   "name": ""
  }
 },
 "nbformat": 4,
 "nbformat_minor": 5
}
