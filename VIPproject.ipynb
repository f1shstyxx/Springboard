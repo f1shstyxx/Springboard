{
 "cells": [
  {
   "cell_type": "code",
   "execution_count": 1,
   "id": "472d9dc6-0894-4fc3-9aba-8d67dbf77c70",
   "metadata": {},
   "outputs": [
    {
     "data": {
      "text/plain": [
       "24"
      ]
     },
     "execution_count": 1,
     "metadata": {},
     "output_type": "execute_result"
    }
   ],
   "source": [
    "x = 9\n",
    "y = 15\n",
    "x+ y\n"
   ]
  },
  {
   "cell_type": "code",
   "execution_count": 2,
   "id": "341b8a0b-8e9e-4189-9fc4-a67f95f79159",
   "metadata": {},
   "outputs": [
    {
     "name": "stdout",
     "output_type": "stream",
     "text": [
      "Hello VIPs!!!\n"
     ]
    }
   ],
   "source": [
    "print('Hello VIPs!!!')"
   ]
  },
  {
   "cell_type": "code",
   "execution_count": 3,
   "id": "fe390318-d857-4a29-b3bc-402b4e9e0f5e",
   "metadata": {},
   "outputs": [
    {
     "name": "stdout",
     "output_type": "stream",
     "text": [
      "Lets make sume moneyyyy\n"
     ]
    }
   ],
   "source": [
    "print(\"Lets make sume moneyyyy\")"
   ]
  },
  {
   "cell_type": "code",
   "execution_count": null,
   "id": "7f1ff6ba-e9ae-4fab-bfa5-c76f9005a1a6",
   "metadata": {},
   "outputs": [],
   "source": []
  }
 ],
 "metadata": {
  "kernelspec": {
   "display_name": "Python 3 (ipykernel)",
   "language": "python",
   "name": "python3"
  },
  "language_info": {
   "codemirror_mode": {
    "name": "ipython",
    "version": 3
   },
   "file_extension": ".py",
   "mimetype": "text/x-python",
   "name": "python",
   "nbconvert_exporter": "python",
   "pygments_lexer": "ipython3",
   "version": "3.12.2"
  }
 },
 "nbformat": 4,
 "nbformat_minor": 5
}
